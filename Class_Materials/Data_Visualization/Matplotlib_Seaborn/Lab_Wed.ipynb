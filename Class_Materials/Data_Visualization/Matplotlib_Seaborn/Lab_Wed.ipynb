{
 "cells": [
  {
   "cell_type": "markdown",
   "id": "d055ff48",
   "metadata": {},
   "source": [
    "Activity 3 (Wednesday)\n",
    "As a reminder the objective of this study is to predict the total claim amount of a customer and study/investigate the impact of the factors (input features) on the target variable(total claim amount). That means in your exploratory data analysis, you have to look for patterns in this data that show interesting relationships among the input features as well as with relation to the target feature.\n",
    "\n",
    "Get the numeric data into a dataframe called numerical and categorical columns in a dataframe called categorical. (You can use \"np.number\" and \"object\" to select the numerical data types and categorical data types respectively)\n",
    "Now we will try to check the normality of the numerical variables visually\n",
    "Use the Seaborn library to construct distribution plots for the numerical variables\n",
    "Use the Matplotlib library to construct histograms.\n",
    "Do the distributions for different numerical variables look like a normal distribution?\n",
    "For the numerical variables, check for correlation between the input features. Note: this does not include the target feature.\n",
    "Plot the Correlation Heatmap.\n",
    "(Optional): Drop one of the two features that show a high correlation between them (greater than 0.9). If there is no pair of features that have a high correlation, then do not drop any features."
   ]
  },
  {
   "cell_type": "code",
   "execution_count": null,
   "id": "4e653e2c",
   "metadata": {},
   "outputs": [],
   "source": [
    "import seaborn as sns\n",
    "\n",
    "\n",
    "\n",
    "\n"
   ]
  }
 ],
 "metadata": {
  "kernelspec": {
   "display_name": "Python 3 (ipykernel)",
   "language": "python",
   "name": "python3"
  },
  "language_info": {
   "codemirror_mode": {
    "name": "ipython",
    "version": 3
   },
   "file_extension": ".py",
   "mimetype": "text/x-python",
   "name": "python",
   "nbconvert_exporter": "python",
   "pygments_lexer": "ipython3",
   "version": "3.10.9"
  }
 },
 "nbformat": 4,
 "nbformat_minor": 5
}
