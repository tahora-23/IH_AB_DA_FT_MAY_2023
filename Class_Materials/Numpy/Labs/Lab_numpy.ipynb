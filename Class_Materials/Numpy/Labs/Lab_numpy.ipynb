{
 "cells": [
  {
   "cell_type": "markdown",
   "id": "7e751e00",
   "metadata": {},
   "source": [
    "# numpy exercises\n",
    "\n",
    "This is a collection of exercises that have been collected in the numpy mailing list, on stack overflow\n",
    "and in the numpy documentation. The goal of this collection is to offer a quick reference for both old\n",
    "and new users but also to provide a set of exercises for those who teach.\n",
    "\n",
    "\n",
    "If you find an error or think you've a better way to solve some of them, feel\n",
    "free to open an issue at <https://github.com/rougier/numpy-100>.\n",
    "File automatically generated. See the documentation to update questions/answers/hints programmatically.\n",
    "#### 1. Import the numpy package under the name `np` (★☆☆)\n",
    "`hint: import … as`\n"
   ]
  },
  {
   "cell_type": "code",
   "execution_count": 4,
   "id": "8ca7fffd",
   "metadata": {},
   "outputs": [],
   "source": [
    "import numpy as np\n"
   ]
  },
  {
   "cell_type": "code",
   "execution_count": 6,
   "id": "93068778",
   "metadata": {},
   "outputs": [
    {
     "name": "stdout",
     "output_type": "stream",
     "text": [
      "[0. 0. 0. 0. 0. 0. 0. 0. 0. 0.]\n"
     ]
    }
   ],
   "source": [
    "#### 2. Create a null vector of size 10 (★☆☆)\n",
    "#`hint: np.zeros`\n",
    "null_vector = np.zeros(10)\n",
    "print(null_vector)"
   ]
  },
  {
   "cell_type": "code",
   "execution_count": 11,
   "id": "c09b2806",
   "metadata": {},
   "outputs": [
    {
     "name": "stdout",
     "output_type": "stream",
     "text": [
      "[0. 0. 0. 0. 1. 0. 0. 0. 0. 0.]\n"
     ]
    }
   ],
   "source": [
    "#### 3. Create a null vector of size 10 but the fifth value which is 1 (★☆☆)\n",
    "#`hint: array[4]`\n",
    "null_vector[4] = 1\n",
    "\n",
    "print(null_vector)"
   ]
  },
  {
   "cell_type": "code",
   "execution_count": 15,
   "id": "d583ab48",
   "metadata": {},
   "outputs": [
    {
     "data": {
      "text/plain": [
       "array([10, 11, 12, 13, 14, 15, 16, 17, 18, 19, 20, 21, 22, 23, 24, 25, 26,\n",
       "       27, 28, 29, 30, 31, 32, 33, 34, 35, 36, 37, 38, 39, 40, 41, 42, 43,\n",
       "       44, 45, 46, 47, 48, 49])"
      ]
     },
     "execution_count": 15,
     "metadata": {},
     "output_type": "execute_result"
    }
   ],
   "source": [
    "#### 4. Create a vector with values ranging from 10 to 49 (★☆☆)\n",
    "#`hint: arange`\n",
    "\n",
    "new_vector = np.arange(10,50)\n",
    "\n",
    "new_vector"
   ]
  },
  {
   "cell_type": "code",
   "execution_count": 22,
   "id": "d7262a52",
   "metadata": {},
   "outputs": [
    {
     "data": {
      "text/plain": [
       "array([[0, 1, 2],\n",
       "       [3, 4, 5],\n",
       "       [6, 7, 8]])"
      ]
     },
     "execution_count": 22,
     "metadata": {},
     "output_type": "execute_result"
    }
   ],
   "source": [
    "#### 5. Create a 3x3 matrix with values ranging from 0 to 8 (★☆☆)\n",
    "#`hint: reshape`\n",
    "\n",
    "matrix_value = np.arange(0, 9).reshape((3, 3))\n",
    "matrix_value\n"
   ]
  },
  {
   "cell_type": "code",
   "execution_count": 25,
   "id": "e3b84a46",
   "metadata": {},
   "outputs": [
    {
     "data": {
      "text/plain": [
       "array([0, 1, 4])"
      ]
     },
     "execution_count": 25,
     "metadata": {},
     "output_type": "execute_result"
    }
   ],
   "source": [
    "#### 6. Find indices of non-zero elements from [1,2,0,0,4,0] (★☆☆)\n",
    "#`hint: np.nonzero`\n",
    "arr = np.array([1, 2, 0, 0, 4, 0])\n",
    "\n",
    "non0 = np.nonzero(arr)[0]\n",
    "non0"
   ]
  },
  {
   "cell_type": "code",
   "execution_count": 26,
   "id": "f5b010ba",
   "metadata": {},
   "outputs": [
    {
     "data": {
      "text/plain": [
       "array([[1., 0., 0.],\n",
       "       [0., 1., 0.],\n",
       "       [0., 0., 1.]])"
      ]
     },
     "execution_count": 26,
     "metadata": {},
     "output_type": "execute_result"
    }
   ],
   "source": [
    "#### 7. Create a 3x3 identity matrix (★☆☆)\n",
    "#`hint: np.eye`\n",
    "\n",
    "id_mat = np.eye(3,3)\n",
    "id_mat"
   ]
  },
  {
   "cell_type": "code",
   "execution_count": 28,
   "id": "49ea2df0",
   "metadata": {},
   "outputs": [
    {
     "data": {
      "text/plain": [
       "array([[[0.60702476, 0.99390181, 0.44337802],\n",
       "        [0.49911721, 0.93432591, 0.5446542 ],\n",
       "        [0.47935777, 0.44311743, 0.1093445 ]],\n",
       "\n",
       "       [[0.95156659, 0.26507606, 0.13009002],\n",
       "        [0.84129864, 0.90682772, 0.15411923],\n",
       "        [0.52323161, 0.85375369, 0.57454829]],\n",
       "\n",
       "       [[0.96349395, 0.65170997, 0.50607651],\n",
       "        [0.53476202, 0.41684747, 0.14215374],\n",
       "        [0.01162636, 0.17066114, 0.47973179]]])"
      ]
     },
     "execution_count": 28,
     "metadata": {},
     "output_type": "execute_result"
    }
   ],
   "source": [
    "### 8. Create a 3x3x3 array with random values (★☆☆)\n",
    "#`hint: np.random.random`\n",
    "\n",
    "random_values = np.random.random((3,3,3))\n",
    "random_values"
   ]
  },
  {
   "cell_type": "code",
   "execution_count": 30,
   "id": "b9355855",
   "metadata": {},
   "outputs": [
    {
     "data": {
      "text/plain": [
       "array([[0.79829208, 0.28261137, 0.35534117, 0.7539872 , 0.22478938,\n",
       "        0.1740354 , 0.95869176, 0.4243573 , 0.04289039, 0.20607223],\n",
       "       [0.68941384, 0.11271183, 0.90794877, 0.69101337, 0.34428872,\n",
       "        0.30751148, 0.41642071, 0.67671914, 0.8713338 , 0.81036977],\n",
       "       [0.527109  , 0.11580888, 0.27597222, 0.66116186, 0.4447083 ,\n",
       "        0.29654147, 0.75927593, 0.73057351, 0.67930121, 0.13431521],\n",
       "       [0.98462277, 0.4371653 , 0.57378282, 0.61790535, 0.9859003 ,\n",
       "        0.38782518, 0.45906924, 0.20954761, 0.60370025, 0.08291496],\n",
       "       [0.08649208, 0.37629074, 0.16045402, 0.36076203, 0.44652173,\n",
       "        0.34319266, 0.8101589 , 0.70425752, 0.07961389, 0.71495107],\n",
       "       [0.35080253, 0.11255942, 0.43911113, 0.25545187, 0.6795913 ,\n",
       "        0.07771104, 0.82116428, 0.36968146, 0.96682681, 0.37108349],\n",
       "       [0.5975572 , 0.9951313 , 0.38612161, 0.17914331, 0.74655747,\n",
       "        0.38775705, 0.4119625 , 0.73632887, 0.72313279, 0.74988007],\n",
       "       [0.78251618, 0.13354811, 0.31724835, 0.93544138, 0.50388379,\n",
       "        0.07595063, 0.5004399 , 0.70987126, 0.77779548, 0.08523193],\n",
       "       [0.41824972, 0.06393709, 0.84577601, 0.58757817, 0.26879261,\n",
       "        0.79916341, 0.38997504, 0.3083791 , 0.25889494, 0.46476509],\n",
       "       [0.7282199 , 0.69018628, 0.13732934, 0.70075805, 0.48202054,\n",
       "        0.14941858, 0.38466077, 0.30145666, 0.11840055, 0.52568534]])"
      ]
     },
     "execution_count": 30,
     "metadata": {},
     "output_type": "execute_result"
    }
   ],
   "source": [
    "#### 9. Create a 10x10 array with random values and find the minimum and maximum values (★☆☆)\n",
    "#`hint: min, max`\n",
    "random_values_ten = np.random.random((10,10))\n",
    "random_values_ten"
   ]
  },
  {
   "cell_type": "code",
   "execution_count": 34,
   "id": "7f4ae118",
   "metadata": {},
   "outputs": [
    {
     "data": {
      "text/plain": [
       "0.042890389448516975"
      ]
     },
     "execution_count": 34,
     "metadata": {},
     "output_type": "execute_result"
    }
   ],
   "source": [
    "min_rvt = np.min(random_values_ten)\n",
    "\n",
    "min_rvt\n"
   ]
  },
  {
   "cell_type": "code",
   "execution_count": 35,
   "id": "19d8f7f1",
   "metadata": {},
   "outputs": [
    {
     "data": {
      "text/plain": [
       "0.9951312956517868"
      ]
     },
     "execution_count": 35,
     "metadata": {},
     "output_type": "execute_result"
    }
   ],
   "source": [
    "max_rvt = np.max(random_values_ten)\n",
    "\n",
    "max_rvt"
   ]
  },
  {
   "cell_type": "code",
   "execution_count": 37,
   "id": "5991e2ba",
   "metadata": {},
   "outputs": [
    {
     "data": {
      "text/plain": [
       "array([0.66200632, 0.74993225, 0.79522728, 0.59452966, 0.89625464,\n",
       "       0.6853771 , 0.25422408, 0.66075347, 0.98655328, 0.76590727,\n",
       "       0.11549705, 0.59888009, 0.27482772, 0.55940803, 0.72783967,\n",
       "       0.63334733, 0.38547694, 0.91468389, 0.08312864, 0.21298101,\n",
       "       0.71200136, 0.26550843, 0.00135971, 0.03478297, 0.59207253,\n",
       "       0.93556817, 0.89092863, 0.93284793, 0.59268557, 0.04622527])"
      ]
     },
     "execution_count": 37,
     "metadata": {},
     "output_type": "execute_result"
    }
   ],
   "source": [
    "#### 10. Create a random vector of size 30 and find the mean value (★☆☆)\n",
    "#`hint: mean`\n",
    "random_vector = np.random.rand(30)\n",
    "\n",
    "random_vector"
   ]
  },
  {
   "cell_type": "code",
   "execution_count": 38,
   "id": "f15bf3dd",
   "metadata": {},
   "outputs": [
    {
     "data": {
      "text/plain": [
       "0.5520272098790088"
      ]
     },
     "execution_count": 38,
     "metadata": {},
     "output_type": "execute_result"
    }
   ],
   "source": [
    "mean_value = np.mean(random_vector)\n",
    "mean_value"
   ]
  },
  {
   "cell_type": "code",
   "execution_count": 43,
   "id": "c0dff57a",
   "metadata": {},
   "outputs": [
    {
     "data": {
      "text/plain": [
       "array([[0, 0, 0, 0, 0],\n",
       "       [1, 0, 0, 0, 0],\n",
       "       [0, 2, 0, 0, 0],\n",
       "       [0, 0, 3, 0, 0],\n",
       "       [0, 0, 0, 4, 0]])"
      ]
     },
     "execution_count": 43,
     "metadata": {},
     "output_type": "execute_result"
    }
   ],
   "source": [
    "#### 11. Create a 5x5 matrix with values 1,2,3,4 just below the diagonal (★☆☆)\n",
    "#`hint: np.diag`\n",
    "\n",
    "five_mat = np.diag([1,2,3,4], k = -1)\n",
    "five_mat"
   ]
  },
  {
   "cell_type": "code",
   "execution_count": 44,
   "id": "8aa43980",
   "metadata": {},
   "outputs": [
    {
     "data": {
      "text/plain": [
       "array([[ 0.47328532, -0.94259413, -0.47127074,  0.08591806, -0.51394594],\n",
       "       [ 1.63972501, -1.11416722,  1.14566333, -1.19915386, -0.57493618],\n",
       "       [-0.88066206, -1.16412522,  1.62101759, -0.7344241 ,  0.41542709],\n",
       "       [ 0.61570696,  0.65320326,  1.45905464, -0.20043637,  1.33207266],\n",
       "       [-1.10592595, -1.2288123 , -0.00164589,  1.60871155, -0.91768551]])"
      ]
     },
     "execution_count": 44,
     "metadata": {},
     "output_type": "execute_result"
    }
   ],
   "source": [
    "#### 12. Normalize a 5x5 random matrix (★☆☆)\n",
    "#`hint: (x -mean)/std`\n",
    "\n",
    "ran_mat = np.random.rand(5, 5)\n",
    "normalized_matrix = (ran_mat - np.mean(ran_mat)) / np.std(ran_mat)\n",
    "\n",
    "normalized_matrix"
   ]
  },
  {
   "cell_type": "code",
   "execution_count": 45,
   "id": "9392ef31",
   "metadata": {},
   "outputs": [
    {
     "data": {
      "text/plain": [
       "array([1, 4, 5])"
      ]
     },
     "execution_count": 45,
     "metadata": {},
     "output_type": "execute_result"
    }
   ],
   "source": [
    "#### 13. How to find common values between two arrays? (★☆☆)\n",
    "#`hint: np.intersect1d`\n",
    "    \n",
    "arr1 = np.array([1,4,2,5,3,8])\n",
    "arr2 = np.array([5,9,0,4,1,7])\n",
    "common_value = np.intersect1d(arr1, arr2)\n",
    "common_value"
   ]
  },
  {
   "cell_type": "code",
   "execution_count": 55,
   "id": "5323f1d5",
   "metadata": {},
   "outputs": [
    {
     "data": {
      "text/plain": [
       "array([0.12672356, 0.42841107, 0.43416915, 0.54420223, 0.54659831,\n",
       "       0.63552794, 0.68220407, 0.79827606, 0.85963475, 0.96654687])"
      ]
     },
     "execution_count": 55,
     "metadata": {},
     "output_type": "execute_result"
    }
   ],
   "source": [
    "#### 14. Create a random vector of size 10 and sort it (★★☆)\n",
    "#`hint: sort`\n",
    "\n",
    "rand_vect = np.random.rand(10)\n",
    "\n",
    "sorted_vect = np.sort(rand_vect)\n",
    "\n",
    "sorted_vect"
   ]
  },
  {
   "cell_type": "code",
   "execution_count": 59,
   "id": "8aa34db9",
   "metadata": {},
   "outputs": [
    {
     "data": {
      "text/plain": [
       "array([0.42435375, 0.77488827, 0.39510853, 0.14670289, 0.93608425,\n",
       "       0.22357296, 0.24842763, 0.9237434 , 0.        , 0.91756404])"
      ]
     },
     "execution_count": 59,
     "metadata": {},
     "output_type": "execute_result"
    }
   ],
   "source": [
    "#### 15. Create random vector of size 10 and replace the maximum value by 0 (★★☆)\n",
    "#`hint: argmax`\n",
    "\n",
    "rand_vect = np.random.rand(10)\n",
    "max_value = np.argmax(rand_vect)\n",
    "rand_vect[max_value] = 0\n",
    "\n",
    "rand_vect\n"
   ]
  },
  {
   "cell_type": "code",
   "execution_count": 84,
   "id": "5486c18e",
   "metadata": {},
   "outputs": [
    {
     "name": "stdout",
     "output_type": "stream",
     "text": [
      "[[-1.  0.  1.]\n",
      " [-1.  0.  1.]\n",
      " [-1.  0.  1.]]\n"
     ]
    }
   ],
   "source": [
    "#### 16. Subtract the mean of each row of a matrix (★★☆)\n",
    "#`hint: mean(axis=,keepdims=)`\n",
    "\n",
    "x = np.array([[1, 2, 3],\n",
    "                   [4, 5, 6],\n",
    "                   [7, 8, 9]])\n",
    "\n",
    "row_means = np.mean(x, axis=1)\n",
    "result = x - row_means[:, np.newaxis]\n",
    "print(result)"
   ]
  },
  {
   "cell_type": "code",
   "execution_count": 91,
   "id": "c0cb20fa",
   "metadata": {},
   "outputs": [
    {
     "data": {
      "text/plain": [
       "array([8013, 9111, 5933, 4732, 8987])"
      ]
     },
     "execution_count": 91,
     "metadata": {},
     "output_type": "execute_result"
    }
   ],
   "source": [
    "#### 17. How to get the n largest values of an array (★★★)\n",
    "Z = np.arange(10000)\n",
    "np.random.shuffle(Z)\n",
    "n = 5\n",
    "#hint: np.argsort | np.argpartition`\n",
    "\n",
    "large_value = np.argsort(Z)[-n:]\n",
    "\n",
    "large_value\n"
   ]
  },
  {
   "cell_type": "code",
   "execution_count": 94,
   "id": "30a4fffa",
   "metadata": {},
   "outputs": [
    {
     "data": {
      "text/plain": [
       "array([[0.70592065, 0.32253021, 0.93388265],\n",
       "       [0.13919   , 0.73965567, 0.66466452],\n",
       "       [0.77509772, 0.34899215, 0.25537697],\n",
       "       [0.05380896, 0.9913126 , 0.57768316],\n",
       "       [0.76699178, 0.46134606, 0.80336802]])"
      ]
     },
     "execution_count": 94,
     "metadata": {},
     "output_type": "execute_result"
    }
   ],
   "source": [
    "#### 18. Create a random 5*3 matrix and replace items that are larger than 4 by their squares ( Example:  6 --> 36) \n",
    "#`hint: np.where`\n",
    "matrix = np.random.rand(5,3)\n",
    "    \n",
    "matrix = np.where(matrix > 4, matrix **2, matrix)\n",
    "\n",
    "matrix\n",
    "\n"
   ]
  },
  {
   "cell_type": "code",
   "execution_count": null,
   "id": "9e8661c3",
   "metadata": {},
   "outputs": [],
   "source": []
  }
 ],
 "metadata": {
  "kernelspec": {
   "display_name": "Python 3 (ipykernel)",
   "language": "python",
   "name": "python3"
  },
  "language_info": {
   "codemirror_mode": {
    "name": "ipython",
    "version": 3
   },
   "file_extension": ".py",
   "mimetype": "text/x-python",
   "name": "python",
   "nbconvert_exporter": "python",
   "pygments_lexer": "ipython3",
   "version": "3.10.9"
  }
 },
 "nbformat": 4,
 "nbformat_minor": 5
}
