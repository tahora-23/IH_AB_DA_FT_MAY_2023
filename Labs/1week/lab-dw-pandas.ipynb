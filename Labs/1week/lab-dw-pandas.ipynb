{
 "cells": [
  {
   "cell_type": "markdown",
   "id": "25d7736c-ba17-4aff-b6bb-66eba20fbf4e",
   "metadata": {},
   "source": [
    "# Lab | Pandas"
   ]
  },
  {
   "cell_type": "markdown",
   "id": "34ae7c66-9458-477c-8a31-c6b07a36bf66",
   "metadata": {},
   "source": [
    "Objective: practice how to use the pandas library in Python for data analysis and manipulation."
   ]
  },
  {
   "cell_type": "markdown",
   "id": "d1973e9e-8be6-4039-b70e-d73ee0d94c99",
   "metadata": {},
   "source": [
    "In this lab, we will be working with the customer data from an insurance company, which can be found in the CSV file located at the following link: https://raw.githubusercontent.com/data-bootcamp-v4/data/main/file1.csv\n",
    "\n",
    "The data includes information such as customer ID, state, gender, education, income, and other variables that can be used to perform various analyses.\n",
    "\n",
    "Throughout the lab, we will be using the pandas library in Python to manipulate and analyze the data. Pandas is a powerful library that provides various data manipulation and analysis tools, including the ability to load and manipulate data from a variety of sources, including CSV files."
   ]
  },
  {
   "cell_type": "markdown",
   "id": "8045146f-f4f7-44d9-8cd9-130d6400c73a",
   "metadata": {},
   "source": [
    "### Data Description\n",
    "\n",
    "- Customer - Customer ID\n",
    "\n",
    "- ST - State where customers live\n",
    "\n",
    "- Gender - Gender of the customer\n",
    "\n",
    "- Education - Background education of customers \n",
    "\n",
    "- Customer Lifetime Value - Customer lifetime value(CLV) is the total revenue the client will derive from their entire relationship with a customer. In other words, is the predicted or calculated value of a customer over their entire duration as a policyholder with the insurance company. It is an estimation of the net profit that the insurance company expects to generate from a customer throughout their relationship with the company. Customer Lifetime Value takes into account factors such as the duration of the customer's policy, premium payments, claim history, renewal likelihood, and potential additional services or products the customer may purchase. It helps insurers assess the long-term profitability and value associated with retaining a particular customer.\n",
    "\n",
    "- Income - Customers income\n",
    "\n",
    "- Monthly Premium Auto - Amount of money the customer pays on a monthly basis as a premium for their auto insurance coverage. It represents the recurring cost that the insured person must pay to maintain their insurance policy and receive coverage for potential damages, accidents, or other covered events related to their vehicle.\n",
    "\n",
    "- Number of Open Complaints - Number of complaints the customer opened\n",
    "\n",
    "- Policy Type - There are three type of policies in car insurance (Corporate Auto, Personal Auto, and Special Auto)\n",
    "\n",
    "- Vehicle Class - Type of vehicle classes that customers have Two-Door Car, Four-Door Car SUV, Luxury SUV, Sports Car, and Luxury Car\n",
    "\n",
    "- Total Claim Amount - the sum of all claims made by the customer. It represents the total monetary value of all approved claims for incidents such as accidents, theft, vandalism, or other covered events.\n"
   ]
  },
  {
   "cell_type": "markdown",
   "id": "3a72419b-20fc-4905-817a-8c83abc59de6",
   "metadata": {},
   "source": [
    "External Resources: https://towardsdatascience.com/filtering-data-frames-in-pandas-b570b1f834b9"
   ]
  },
  {
   "cell_type": "markdown",
   "id": "8f8ece17-e919-4e23-96c0-c7c59778436a",
   "metadata": {},
   "source": [
    "## Challenge 1: Understanding the data\n",
    "\n",
    "In this challenge, you will use pandas to explore a given dataset. Your task is to gain a deep understanding of the data by analyzing its characteristics, dimensions, and statistical properties."
   ]
  },
  {
   "cell_type": "markdown",
   "id": "91437bd5-59a6-49c0-8150-ef0e6e6eb253",
   "metadata": {},
   "source": [
    "- Identify the dimensions of the dataset by determining the number of rows and columns it contains.\n",
    "- Determine the data types of each column and evaluate whether they are appropriate for the nature of the variable. You should also provide suggestions for fixing any incorrect data types.\n",
    "- Identify the number of unique values for each column and determine which columns appear to be categorical. You should also describe the unique values of each categorical column and the range of values for numerical columns, and give your insights.\n",
    "- Compute summary statistics such as mean, median, mode, standard deviation, and quartiles to understand the central tendency and distribution of the data for numerical columns. You should also provide your conclusions based on these summary statistics.\n",
    "- Compute summary statistics for categorical columns and providing your conclusions based on these statistics."
   ]
  },
  {
   "cell_type": "code",
   "execution_count": 1,
   "id": "dd4e8cd8-a6f6-486c-a5c4-1745b0c035f4",
   "metadata": {
    "scrolled": true
   },
   "outputs": [
    {
     "name": "stdout",
     "output_type": "stream",
     "text": [
      "Number of rows:  4008\n",
      "Number of columns:  11\n",
      "Column types:  \n",
      " Customer                      object\n",
      "ST                            object\n",
      "GENDER                        object\n",
      "Education                     object\n",
      "Customer Lifetime Value       object\n",
      "Income                       float64\n",
      "Monthly Premium Auto         float64\n",
      "Number of Open Complaints     object\n",
      "Policy Type                   object\n",
      "Vehicle Class                 object\n",
      "Total Claim Amount           float64\n",
      "dtype: object\n"
     ]
    }
   ],
   "source": [
    "import pandas as pd\n",
    "\n",
    "df = pd.read_csv(\"file1.csv\")\n",
    "\n",
    "print(\"Number of rows: \",df.shape[0])\n",
    "print(\"Number of columns: \",df.shape[1])\n",
    "\n",
    "print(\"Column types: \",\"\\n\",df.dtypes)\n",
    "\n",
    "\n"
   ]
  },
  {
   "cell_type": "markdown",
   "id": "5f63bce2",
   "metadata": {},
   "source": [
    "### 1. Type of Column \"Income\" and \"Monthly Premium Auto\" can be switched to type integer since it seems like we're only inputting integers into this column.\n",
    "### 2. The CLV should not be a percentage and should be then changed to a float after removing.\n"
   ]
  },
  {
   "cell_type": "code",
   "execution_count": 2,
   "id": "17cd1ac6",
   "metadata": {},
   "outputs": [
    {
     "data": {
      "text/plain": [
       "Customer                      object\n",
       "ST                            object\n",
       "GENDER                        object\n",
       "Education                     object\n",
       "Customer Lifetime Value       object\n",
       "Income                       float64\n",
       "Monthly Premium Auto         float64\n",
       "Number of Open Complaints     object\n",
       "Policy Type                   object\n",
       "Vehicle Class                 object\n",
       "Total Claim Amount           float64\n",
       "dtype: object"
      ]
     },
     "execution_count": 2,
     "metadata": {},
     "output_type": "execute_result"
    }
   ],
   "source": [
    "df.dtypes"
   ]
  },
  {
   "cell_type": "code",
   "execution_count": 3,
   "id": "00b5d613",
   "metadata": {},
   "outputs": [],
   "source": [
    "df= df.dropna()\n",
    "df = df.reset_index(drop=True)"
   ]
  },
  {
   "cell_type": "code",
   "execution_count": 4,
   "id": "d2ba6f8c",
   "metadata": {},
   "outputs": [],
   "source": [
    "df[\"Monthly Premium Auto\"]= df[\"Monthly Premium Auto\"].astype(\"int64\")\n",
    "df[\"Income\"] = df[\"Income\"].astype(dtype= \"int64\")"
   ]
  },
  {
   "cell_type": "code",
   "execution_count": 5,
   "id": "ffd6c66d",
   "metadata": {},
   "outputs": [],
   "source": [
    "df[\"Customer Lifetime Value\"]= df[\"Customer Lifetime Value\"].str.replace(\"%\",\"\")\n",
    "df[\"Customer Lifetime Value\"]= df[\"Customer Lifetime Value\"].astype(dtype=\"float64\")"
   ]
  },
  {
   "cell_type": "code",
   "execution_count": 6,
   "id": "3f10c330",
   "metadata": {},
   "outputs": [
    {
     "data": {
      "text/plain": [
       "Customer                      object\n",
       "ST                            object\n",
       "GENDER                        object\n",
       "Education                     object\n",
       "Customer Lifetime Value      float64\n",
       "Income                         int64\n",
       "Monthly Premium Auto           int64\n",
       "Number of Open Complaints     object\n",
       "Policy Type                   object\n",
       "Vehicle Class                 object\n",
       "Total Claim Amount           float64\n",
       "dtype: object"
      ]
     },
     "execution_count": 6,
     "metadata": {},
     "output_type": "execute_result"
    }
   ],
   "source": [
    "df.dtypes"
   ]
  },
  {
   "cell_type": "code",
   "execution_count": 7,
   "id": "27b6da86",
   "metadata": {},
   "outputs": [
    {
     "data": {
      "text/plain": [
       "Customer                     952\n",
       "ST                             8\n",
       "GENDER                         5\n",
       "Education                      6\n",
       "Customer Lifetime Value      921\n",
       "Income                       688\n",
       "Monthly Premium Auto         128\n",
       "Number of Open Complaints      6\n",
       "Policy Type                    3\n",
       "Vehicle Class                  6\n",
       "Total Claim Amount           688\n",
       "dtype: int64"
      ]
     },
     "execution_count": 7,
     "metadata": {},
     "output_type": "execute_result"
    }
   ],
   "source": [
    "df.nunique()"
   ]
  },
  {
   "cell_type": "markdown",
   "id": "462f4ba3",
   "metadata": {},
   "source": [
    "#### Columns GENDER, EDUCATION, POLICY TYPE, and VEHICLE CLASS are categorical."
   ]
  },
  {
   "cell_type": "code",
   "execution_count": 8,
   "id": "b1346f08",
   "metadata": {},
   "outputs": [
    {
     "data": {
      "text/plain": [
       "array(['F', 'M', 'Femal', 'Male', 'female'], dtype=object)"
      ]
     },
     "execution_count": 8,
     "metadata": {},
     "output_type": "execute_result"
    }
   ],
   "source": [
    "df[\"GENDER\"].unique() ## the GENDER column needs to be cleaned"
   ]
  },
  {
   "cell_type": "code",
   "execution_count": 9,
   "id": "2a96a2ab",
   "metadata": {},
   "outputs": [],
   "source": [
    "df[\"GENDER\"] = df[\"GENDER\"].replace(\"Femal\",\"F\")\n",
    "df[\"GENDER\"] = df[\"GENDER\"].replace(\"Male\",\"M\")\n",
    "df[\"GENDER\"] = df[\"GENDER\"].replace(\"female\",\"F\")"
   ]
  },
  {
   "cell_type": "code",
   "execution_count": 10,
   "id": "c55aec04",
   "metadata": {},
   "outputs": [
    {
     "data": {
      "text/plain": [
       "array(['Bachelor', 'High School or Below', 'College', 'Master',\n",
       "       'Bachelors', 'Doctor'], dtype=object)"
      ]
     },
     "execution_count": 10,
     "metadata": {},
     "output_type": "execute_result"
    }
   ],
   "source": [
    "df[\"Education\"].unique() ## Also  needs cleaning since Bachlor and Bachelors are the same"
   ]
  },
  {
   "cell_type": "code",
   "execution_count": 11,
   "id": "788a244e",
   "metadata": {},
   "outputs": [],
   "source": [
    "df[\"Education\"] = df[\"Education\"].replace(\"Bachelor\",\"Bachelors\")"
   ]
  },
  {
   "cell_type": "code",
   "execution_count": 12,
   "id": "581b9c8f",
   "metadata": {},
   "outputs": [
    {
     "data": {
      "text/plain": [
       "array(['Personal Auto', 'Corporate Auto', 'Special Auto'], dtype=object)"
      ]
     },
     "execution_count": 12,
     "metadata": {},
     "output_type": "execute_result"
    }
   ],
   "source": [
    "df[\"Policy Type\"].unique() ## There are three different type of policies: personal,corporate, and special"
   ]
  },
  {
   "cell_type": "code",
   "execution_count": 13,
   "id": "05e166cf",
   "metadata": {},
   "outputs": [
    {
     "data": {
      "text/plain": [
       "array(['Four-Door Car', 'Two-Door Car', 'SUV', 'Sports Car', 'Luxury Car',\n",
       "       'Luxury SUV'], dtype=object)"
      ]
     },
     "execution_count": 13,
     "metadata": {},
     "output_type": "execute_result"
    }
   ],
   "source": [
    "df[\"Vehicle Class\"].unique() ## There are 6 different classes of vehicles "
   ]
  },
  {
   "cell_type": "code",
   "execution_count": 14,
   "id": "85110bf1",
   "metadata": {},
   "outputs": [
    {
     "name": "stdout",
     "output_type": "stream",
     "text": [
      "Range of Income: 99960\n",
      "Range of Monthly Premium Auto: 35293\n",
      "Range of Total Claim Amount: 2892.857571\n"
     ]
    }
   ],
   "source": [
    "x,y = df[\"Income\"].max(),df[\"Income\"].dropna().min()\n",
    "\n",
    "print(\"Range of Income:\",x-y)\n",
    "\n",
    "i,j = df[\"Monthly Premium Auto\"].max(),df[\"Monthly Premium Auto\"].min()\n",
    "\n",
    "print(\"Range of Monthly Premium Auto:\",i-j)\n",
    "\n",
    "n,p = df[\"Total Claim Amount\"].max(),df[\"Total Claim Amount\"].min()\n",
    "\n",
    "print(\"Range of Total Claim Amount:\",n-p)"
   ]
  },
  {
   "cell_type": "markdown",
   "id": "1807ebb2",
   "metadata": {},
   "source": [
    "#### As we can see, the incomes of our clients vary significantly. \n"
   ]
  },
  {
   "cell_type": "code",
   "execution_count": 16,
   "id": "1b5d0ced",
   "metadata": {},
   "outputs": [
    {
     "data": {
      "text/html": [
       "<div>\n",
       "<style scoped>\n",
       "    .dataframe tbody tr th:only-of-type {\n",
       "        vertical-align: middle;\n",
       "    }\n",
       "\n",
       "    .dataframe tbody tr th {\n",
       "        vertical-align: top;\n",
       "    }\n",
       "\n",
       "    .dataframe thead th {\n",
       "        text-align: right;\n",
       "    }\n",
       "</style>\n",
       "<table border=\"1\" class=\"dataframe\">\n",
       "  <thead>\n",
       "    <tr style=\"text-align: right;\">\n",
       "      <th></th>\n",
       "      <th>Customer Lifetime Value</th>\n",
       "      <th>Income</th>\n",
       "      <th>Monthly Premium Auto</th>\n",
       "      <th>Total Claim Amount</th>\n",
       "    </tr>\n",
       "  </thead>\n",
       "  <tbody>\n",
       "    <tr>\n",
       "      <th>count</th>\n",
       "      <td>9.520000e+02</td>\n",
       "      <td>952.000000</td>\n",
       "      <td>952.000000</td>\n",
       "      <td>952.000000</td>\n",
       "    </tr>\n",
       "    <tr>\n",
       "      <th>mean</th>\n",
       "      <td>7.942013e+05</td>\n",
       "      <td>39557.350840</td>\n",
       "      <td>205.231092</td>\n",
       "      <td>404.999156</td>\n",
       "    </tr>\n",
       "    <tr>\n",
       "      <th>std</th>\n",
       "      <td>6.258792e+05</td>\n",
       "      <td>30744.561851</td>\n",
       "      <td>1697.752504</td>\n",
       "      <td>299.238726</td>\n",
       "    </tr>\n",
       "    <tr>\n",
       "      <th>min</th>\n",
       "      <td>2.004351e+05</td>\n",
       "      <td>0.000000</td>\n",
       "      <td>61.000000</td>\n",
       "      <td>0.382107</td>\n",
       "    </tr>\n",
       "    <tr>\n",
       "      <th>25%</th>\n",
       "      <td>4.117836e+05</td>\n",
       "      <td>13087.750000</td>\n",
       "      <td>68.000000</td>\n",
       "      <td>196.724587</td>\n",
       "    </tr>\n",
       "    <tr>\n",
       "      <th>50%</th>\n",
       "      <td>5.885745e+05</td>\n",
       "      <td>36632.000000</td>\n",
       "      <td>83.000000</td>\n",
       "      <td>350.400000</td>\n",
       "    </tr>\n",
       "    <tr>\n",
       "      <th>75%</th>\n",
       "      <td>9.037509e+05</td>\n",
       "      <td>65085.500000</td>\n",
       "      <td>110.000000</td>\n",
       "      <td>534.000000</td>\n",
       "    </tr>\n",
       "    <tr>\n",
       "      <th>max</th>\n",
       "      <td>4.479547e+06</td>\n",
       "      <td>99960.000000</td>\n",
       "      <td>35354.000000</td>\n",
       "      <td>2893.239678</td>\n",
       "    </tr>\n",
       "  </tbody>\n",
       "</table>\n",
       "</div>"
      ],
      "text/plain": [
       "       Customer Lifetime Value        Income  Monthly Premium Auto  \\\n",
       "count             9.520000e+02    952.000000            952.000000   \n",
       "mean              7.942013e+05  39557.350840            205.231092   \n",
       "std               6.258792e+05  30744.561851           1697.752504   \n",
       "min               2.004351e+05      0.000000             61.000000   \n",
       "25%               4.117836e+05  13087.750000             68.000000   \n",
       "50%               5.885745e+05  36632.000000             83.000000   \n",
       "75%               9.037509e+05  65085.500000            110.000000   \n",
       "max               4.479547e+06  99960.000000          35354.000000   \n",
       "\n",
       "       Total Claim Amount  \n",
       "count          952.000000  \n",
       "mean           404.999156  \n",
       "std            299.238726  \n",
       "min              0.382107  \n",
       "25%            196.724587  \n",
       "50%            350.400000  \n",
       "75%            534.000000  \n",
       "max           2893.239678  "
      ]
     },
     "execution_count": 16,
     "metadata": {},
     "output_type": "execute_result"
    }
   ],
   "source": [
    "df.describe()"
   ]
  },
  {
   "cell_type": "code",
   "execution_count": 17,
   "id": "8b2f4ce4",
   "metadata": {},
   "outputs": [
    {
     "name": "stdout",
     "output_type": "stream",
     "text": [
      "Median of Incomes: 36632.0\n",
      "Median of Monthly Premium Auto: 83.0\n",
      "Median of Total Claim Amount: 350.4\n"
     ]
    }
   ],
   "source": [
    "print(\"Median of Incomes:\",df[\"Income\"].median())\n",
    "print(\"Median of Monthly Premium Auto:\",df[\"Monthly Premium Auto\"].median())\n",
    "print(\"Median of Total Claim Amount:\",df[\"Total Claim Amount\"].median())"
   ]
  },
  {
   "cell_type": "code",
   "execution_count": 18,
   "id": "6edf90b5",
   "metadata": {},
   "outputs": [
    {
     "name": "stdout",
     "output_type": "stream",
     "text": [
      "Mode of Incomes: 0    0\n",
      "Name: Income, dtype: int64\n",
      "Mode of Monthly Premium Auto: 0    65\n",
      "Name: Monthly Premium Auto, dtype: int64\n",
      "Mode of Total Claim Amount: 0    321.6\n",
      "Name: Total Claim Amount, dtype: float64\n"
     ]
    }
   ],
   "source": [
    "print(\"Mode of Incomes:\",df[\"Income\"].mode())\n",
    "print(\"Mode of Monthly Premium Auto:\",df[\"Monthly Premium Auto\"].mode())\n",
    "print(\"Mode of Total Claim Amount:\",df[\"Total Claim Amount\"].mode())"
   ]
  },
  {
   "cell_type": "markdown",
   "id": "23ce8ad0",
   "metadata": {},
   "source": [
    "### Statistics for Categorical Columns"
   ]
  },
  {
   "cell_type": "code",
   "execution_count": 19,
   "id": "4e5d9fcd",
   "metadata": {},
   "outputs": [
    {
     "name": "stdout",
     "output_type": "stream",
     "text": [
      "Most popular client Gender: 0    F\n",
      "Name: GENDER, dtype: object\n",
      "Most popular client education level: 0    Bachelors\n",
      "Name: Education, dtype: object\n",
      "Mode popular policy type among clients: 0    Personal Auto\n",
      "Name: Policy Type, dtype: object\n",
      "Mode popular vehicle class among clients: 0    Four-Door Car\n",
      "Name: Vehicle Class, dtype: object\n"
     ]
    }
   ],
   "source": [
    "print(\"Most popular client Gender:\",df[\"GENDER\"].mode())\n",
    "print(\"Most popular client education level:\",df[\"Education\"].mode())\n",
    "print(\"Mode popular policy type among clients:\",df[\"Policy Type\"].mode())\n",
    "print(\"Mode popular vehicle class among clients:\",df[\"Vehicle Class\"].mode())"
   ]
  },
  {
   "cell_type": "markdown",
   "id": "32eb680f",
   "metadata": {},
   "source": [
    "1. Most of the clients are females.\n",
    "2. Most of the clients have a bachelor's degree.\n",
    "3. Most of the clients buy the car for personal luxury.\n",
    "4. The most popular vehicle class among clients is the Four-Door Car."
   ]
  },
  {
   "cell_type": "markdown",
   "id": "4a703890-63db-4944-b7ab-95a4f8185120",
   "metadata": {},
   "source": [
    "## Challenge 2: analyzing the data"
   ]
  },
  {
   "cell_type": "markdown",
   "id": "0776a403-c56a-452f-ac33-5fd4fdb06fc7",
   "metadata": {},
   "source": [
    "### Exercise 1"
   ]
  },
  {
   "cell_type": "markdown",
   "id": "eedbc484-da4d-4f9c-9343-e1d44311a87e",
   "metadata": {},
   "source": [
    "The marketing team wants to know the top 5 less common customer locations. Create a pandas Series object that contains the customer locations and their frequencies, and then retrieve the top 5 less common locations in ascending order."
   ]
  },
  {
   "cell_type": "code",
   "execution_count": 20,
   "id": "2dca5073-4520-4f42-9390-4b92733284ed",
   "metadata": {},
   "outputs": [
    {
     "name": "stdout",
     "output_type": "stream",
     "text": [
      "ST\n",
      "AZ             14\n",
      "WA             29\n",
      "Washington     77\n",
      "Nevada         89\n",
      "Cali          119\n",
      "Arizona       174\n",
      "California    174\n",
      "Oregon        276\n",
      "Name: count, dtype: int64\n",
      "\n",
      "\n",
      "ST\n",
      "AZ             14\n",
      "WA             29\n",
      "Washington     77\n",
      "Nevada         89\n",
      "Cali          119\n",
      "Name: count, dtype: int64\n"
     ]
    }
   ],
   "source": [
    "s = df['ST'].value_counts()\n",
    "\n",
    "s = s.sort_values()\n",
    "\n",
    "less_common = s.head(5)\n",
    "\n",
    "print(s)\n",
    "print(\"\\n\")\n",
    "print(less_common)"
   ]
  },
  {
   "cell_type": "markdown",
   "id": "97d713f0",
   "metadata": {},
   "source": [
    "#### We can also notice that the ST needs cleaning, since WA is the same as Washington and AZ as Arizona and Cali as California."
   ]
  },
  {
   "cell_type": "markdown",
   "id": "e8bc33e9-20fa-4852-8a96-acba1c802dd3",
   "metadata": {},
   "source": [
    "### Exercise 2\n"
   ]
  },
  {
   "cell_type": "markdown",
   "id": "feb47063-8ebb-4fa0-af2f-17a5c4cb1655",
   "metadata": {},
   "source": [
    "Your goal is to identify customers with a high policy claim amount.\n",
    "\n",
    "Instructions:\n",
    "\n",
    "- Review again the statistics for total claim amount to gain an understanding of the data.\n",
    "- To identify potential areas for improving customer retention and profitability, we want to focus on customers with a high policy claim amount. Consider customers with a high policy claim amount to be those in the top 25% of the total claim amount. Create a pandas DataFrame object that contains information about customers with a policy claim amount greater than the 75th percentile.\n",
    "- Use DataFrame methods to calculate summary statistics about the high policy claim amount data. "
   ]
  },
  {
   "cell_type": "markdown",
   "id": "9117fa27-7104-4b3d-b788-c554c63cd0b9",
   "metadata": {},
   "source": [
    "*Note: When analyzing data, we often want to focus on certain groups of values to gain insights. Percentiles are a useful tool to help us define these groups. A percentile is a measure that tells us what percentage of values in a dataset are below a certain value. For example, the 75th percentile represents the value below which 75% of the data falls. Similarly, the 25th percentile represents the value below which 25% of the data falls. When we talk about the top 25%, we are referring to the values that fall above the 75th percentile, which represent the top quarter of the data. On the other hand, when we talk about the bottom 25%, we are referring to the values that fall below the 25th percentile, which represent the bottom quarter of the data. By focusing on these groups, we can identify patterns and trends that may be useful for making decisions and taking action.*\n",
    "\n",
    "*Hint: look for a method that gives you the percentile or quantile 0.75 and 0.25 for a Pandas Series.*"
   ]
  },
  {
   "cell_type": "markdown",
   "id": "4b323dc6-b7db-4d33-8e11-abf5e7ac93f5",
   "metadata": {},
   "source": [
    "*Hint 2: check `Boolean selection according to the values of a single column` in https://towardsdatascience.com/filtering-data-frames-in-pandas-b570b1f834b9*"
   ]
  },
  {
   "cell_type": "code",
   "execution_count": 77,
   "id": "b731bca6-a760-4860-a27b-a33efa712ce0",
   "metadata": {},
   "outputs": [
    {
     "data": {
      "text/html": [
       "<div>\n",
       "<style scoped>\n",
       "    .dataframe tbody tr th:only-of-type {\n",
       "        vertical-align: middle;\n",
       "    }\n",
       "\n",
       "    .dataframe tbody tr th {\n",
       "        vertical-align: top;\n",
       "    }\n",
       "\n",
       "    .dataframe thead th {\n",
       "        text-align: right;\n",
       "    }\n",
       "</style>\n",
       "<table border=\"1\" class=\"dataframe\">\n",
       "  <thead>\n",
       "    <tr style=\"text-align: right;\">\n",
       "      <th></th>\n",
       "      <th></th>\n",
       "      <th>Income</th>\n",
       "      <th>Monthly Premium Auto</th>\n",
       "      <th>Customer Lifetime Value</th>\n",
       "    </tr>\n",
       "    <tr>\n",
       "      <th>Policy Type</th>\n",
       "      <th>GENDER</th>\n",
       "      <th></th>\n",
       "      <th></th>\n",
       "      <th></th>\n",
       "    </tr>\n",
       "  </thead>\n",
       "  <tbody>\n",
       "    <tr>\n",
       "      <th rowspan=\"2\" valign=\"top\">Corporate Auto</th>\n",
       "      <th>F</th>\n",
       "      <td>38356.560000</td>\n",
       "      <td>109.440000</td>\n",
       "      <td>856476.744000</td>\n",
       "    </tr>\n",
       "    <tr>\n",
       "      <th>M</th>\n",
       "      <td>23984.031250</td>\n",
       "      <td>132.031250</td>\n",
       "      <td>907975.601250</td>\n",
       "    </tr>\n",
       "    <tr>\n",
       "      <th rowspan=\"2\" valign=\"top\">Personal Auto</th>\n",
       "      <th>F</th>\n",
       "      <td>21285.202247</td>\n",
       "      <td>249.752809</td>\n",
       "      <td>872316.926292</td>\n",
       "    </tr>\n",
       "    <tr>\n",
       "      <th>M</th>\n",
       "      <td>21579.620253</td>\n",
       "      <td>125.329114</td>\n",
       "      <td>961164.852532</td>\n",
       "    </tr>\n",
       "    <tr>\n",
       "      <th rowspan=\"2\" valign=\"top\">Special Auto</th>\n",
       "      <th>F</th>\n",
       "      <td>30410.375000</td>\n",
       "      <td>125.125000</td>\n",
       "      <td>928300.021250</td>\n",
       "    </tr>\n",
       "    <tr>\n",
       "      <th>M</th>\n",
       "      <td>28301.600000</td>\n",
       "      <td>121.200000</td>\n",
       "      <td>961007.182000</td>\n",
       "    </tr>\n",
       "  </tbody>\n",
       "</table>\n",
       "</div>"
      ],
      "text/plain": [
       "                             Income  Monthly Premium Auto  \\\n",
       "Policy Type    GENDER                                       \n",
       "Corporate Auto F       38356.560000            109.440000   \n",
       "               M       23984.031250            132.031250   \n",
       "Personal Auto  F       21285.202247            249.752809   \n",
       "               M       21579.620253            125.329114   \n",
       "Special Auto   F       30410.375000            125.125000   \n",
       "               M       28301.600000            121.200000   \n",
       "\n",
       "                       Customer Lifetime Value  \n",
       "Policy Type    GENDER                           \n",
       "Corporate Auto F                 856476.744000  \n",
       "               M                 907975.601250  \n",
       "Personal Auto  F                 872316.926292  \n",
       "               M                 961164.852532  \n",
       "Special Auto   F                 928300.021250  \n",
       "               M                 961007.182000  "
      ]
     },
     "execution_count": 77,
     "metadata": {},
     "output_type": "execute_result"
    }
   ],
   "source": [
    "q = df[\"Total Claim Amount\"].quantile(q=0.75)\n",
    "\n",
    "strn = df.loc[df[\"Total Claim Amount\"]>q]\n",
    "\n",
    "strn = strn.reset_index(drop=True)\n",
    "\n",
    "\n",
    "strn[[\"Income\",\"Monthly Premium Auto\",\"Customer Lifetime Value\",\"Policy Type\",\"GENDER\"]].groupby([\"Policy Type\",\"GENDER\"]).mean()"
   ]
  },
  {
   "cell_type": "markdown",
   "id": "0ce80f43-4afa-43c7-a78a-c917444da4e0",
   "metadata": {},
   "source": [
    "### Exercise 3\n",
    "\n",
    "The sales team wants to know the total number of policies sold for each type of policy. Create a pandas Series object that contains the policy types and their total number of policies sold, and then retrieve the policy type with the highest number of policies sold."
   ]
  },
  {
   "cell_type": "markdown",
   "id": "a9f13997-1555-4f98-aca6-970fda1d2c3f",
   "metadata": {},
   "source": [
    "*Hint:*\n",
    "- *Using value_counts() method simplifies this analysis.*\n",
    "- *Futhermore, there is a method that returns the index of the maximum value in a column or row.*\n"
   ]
  },
  {
   "cell_type": "code",
   "execution_count": 89,
   "id": "bcfad6c1-9af2-4b0b-9aa9-0dc5c17473c0",
   "metadata": {},
   "outputs": [
    {
     "name": "stdout",
     "output_type": "stream",
     "text": [
      "Most sold Policy Type: Personal Auto\n"
     ]
    }
   ],
   "source": [
    "n = df[\"Policy Type\"].value_counts()\n",
    "\n",
    "print(\"Most sold Policy Type:\",n.idxmax())"
   ]
  },
  {
   "cell_type": "markdown",
   "id": "0b863fd3-bf91-4d5d-86eb-be29ed9f5b70",
   "metadata": {},
   "source": [
    "### Exercise 4\n",
    "\n",
    "The sales team wants to know if customers with Personal Auto have a income than those with Corporate Auto. How does the average income compare between the two policy types?"
   ]
  },
  {
   "cell_type": "markdown",
   "id": "b1386d75-2810-4aa1-93e0-9485aa12d552",
   "metadata": {},
   "source": [
    "- Use *loc* to create two dataframes: one containing only Personal Auto policies and one containing only Corporate Auto policies.\n",
    "- Calculate the average income for each policy.\n",
    "- Print the results."
   ]
  },
  {
   "cell_type": "code",
   "execution_count": 109,
   "id": "0c0563cf-6f8b-463d-a321-651a972f82e5",
   "metadata": {},
   "outputs": [],
   "source": [
    "p_auto = df.loc[df[\"Policy Type\"]==\"Personal Auto\"]\n",
    "c_auto = df.loc[df[\"Policy Type\"]==\"Corporate Auto\"]"
   ]
  },
  {
   "cell_type": "code",
   "execution_count": 128,
   "id": "e079158d",
   "metadata": {},
   "outputs": [],
   "source": [
    "avg_inc_p = p_auto[\"Income\"].mean(axis=0)\n",
    "avg_inc_c = c_auto[\"Income\"].mean(axis=0)"
   ]
  },
  {
   "cell_type": "code",
   "execution_count": 129,
   "id": "a8121201",
   "metadata": {},
   "outputs": [
    {
     "name": "stdout",
     "output_type": "stream",
     "text": [
      "Average income of clients with Personal Auto Policy Type: 38643.96081277214\n",
      "Average income of clients with Corporate Auto Policy Type: 41034.50710900474\n"
     ]
    }
   ],
   "source": [
    "print(\"Average income of clients with Personal Auto Policy Type:\",avg_inc_p )\n",
    "print(\"Average income of clients with Corporate Auto Policy Type:\",avg_inc_c )"
   ]
  },
  {
   "cell_type": "markdown",
   "id": "1b01c1df",
   "metadata": {},
   "source": [
    "#### We notice that the average income of clients with a \"Corporate Auto\" policy type is higher than that of clients with a \"Personal Auto\" policy type."
   ]
  }
 ],
 "metadata": {
  "kernelspec": {
   "display_name": "Python 3 (ipykernel)",
   "language": "python",
   "name": "python3"
  },
  "language_info": {
   "codemirror_mode": {
    "name": "ipython",
    "version": 3
   },
   "file_extension": ".py",
   "mimetype": "text/x-python",
   "name": "python",
   "nbconvert_exporter": "python",
   "pygments_lexer": "ipython3",
   "version": "3.10.9"
  }
 },
 "nbformat": 4,
 "nbformat_minor": 5
}
