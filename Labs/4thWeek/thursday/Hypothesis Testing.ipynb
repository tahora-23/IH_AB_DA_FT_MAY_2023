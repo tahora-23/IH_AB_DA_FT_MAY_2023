{
 "cells": [
  {
   "cell_type": "code",
   "execution_count": 1,
   "id": "22b00c5a",
   "metadata": {},
   "outputs": [],
   "source": [
    "import numpy as np\n",
    "import pandas as pd\n",
    "import scipy.stats as stats\n",
    "import matplotlib.pyplot as plt\n",
    "import seaborn as sns\n",
    "\n",
    "%matplotlib inline"
   ]
  },
  {
   "cell_type": "code",
   "execution_count": null,
   "id": "05b5c70b",
   "metadata": {},
   "outputs": [],
   "source": []
  },
  {
   "cell_type": "markdown",
   "id": "f6fa4d65",
   "metadata": {},
   "source": [
    "Hyphothesis\n",
    "\n",
    "Avg blood pressure is not equal to 120 mm Hg"
   ]
  },
  {
   "cell_type": "code",
   "execution_count": 7,
   "id": "3fd1f7b3",
   "metadata": {},
   "outputs": [],
   "source": [
    "mu = 120 \n",
    "n = 100\n",
    "x_bar = 130.1 \n",
    "s = 21.21 "
   ]
  },
  {
   "cell_type": "code",
   "execution_count": 8,
   "id": "d5791856",
   "metadata": {},
   "outputs": [],
   "source": [
    "#H0= mu = 120mm\n",
    "#H1= mu != 120 mm Hg"
   ]
  },
  {
   "cell_type": "code",
   "execution_count": null,
   "id": "d7f7136c",
   "metadata": {},
   "outputs": [],
   "source": []
  },
  {
   "cell_type": "code",
   "execution_count": 11,
   "id": "f5ef76b0",
   "metadata": {},
   "outputs": [
    {
     "data": {
      "text/plain": [
       "1.6603911559963895"
      ]
     },
     "execution_count": 11,
     "metadata": {},
     "output_type": "execute_result"
    }
   ],
   "source": [
    "c = stats.t.ppf(0.95, df =99)\n",
    "c"
   ]
  },
  {
   "cell_type": "code",
   "execution_count": 10,
   "id": "6536545f",
   "metadata": {},
   "outputs": [
    {
     "name": "stdout",
     "output_type": "stream",
     "text": [
      "t-statistic: 4.761904761904759\n",
      "p-value: 6.562701817092176e-06\n"
     ]
    }
   ],
   "source": [
    "t = (x_bar - mu) / (s / (n ** 0.5))\n",
    "p_value = 2 * (1 - stats.t.cdf(abs(t), df=n-1))\n",
    "\n",
    "print(\"t-statistic:\", t)\n",
    "print(\"p-value:\", p_value)\n"
   ]
  },
  {
   "cell_type": "code",
   "execution_count": null,
   "id": "bb18625d",
   "metadata": {},
   "outputs": [],
   "source": []
  }
 ],
 "metadata": {
  "kernelspec": {
   "display_name": "Python 3 (ipykernel)",
   "language": "python",
   "name": "python3"
  },
  "language_info": {
   "codemirror_mode": {
    "name": "ipython",
    "version": 3
   },
   "file_extension": ".py",
   "mimetype": "text/x-python",
   "name": "python",
   "nbconvert_exporter": "python",
   "pygments_lexer": "ipython3",
   "version": "3.10.9"
  }
 },
 "nbformat": 4,
 "nbformat_minor": 5
}
